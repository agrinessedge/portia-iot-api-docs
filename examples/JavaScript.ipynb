{
 "cells": [
  {
   "cell_type": "markdown",
   "metadata": {},
   "source": [
    "# Querying portia - Data fetching with JavaScript (Node.js)"
   ]
  },
  {
   "cell_type": "markdown",
   "metadata": {},
   "source": [
    "## Defining some requirements\n",
    "For the examples we are presenting we first need to define some constants to be used..."
   ]
  },
  {
   "cell_type": "code",
   "execution_count": 1,
   "metadata": {},
   "outputs": [
    {
     "data": {
      "text/plain": [
       "'use strict'"
      ]
     },
     "execution_count": 1,
     "metadata": {},
     "output_type": "execute_result"
    }
   ],
   "source": [
    "'use strict'\n",
    "\n",
    "// HTTP protocol library\n",
    "const http = require(\"http\");\n",
    "\n",
    "// Portia service URL\n",
    "const url = \"io.portia.supe.solutions\";\n",
    "\n",
    "// The user token\n",
    "const myToken = \"bdb6e780b43011e7af0b67cba486057b\";\n",
    "\n",
    "// Header object with token authentication\n",
    "const customHeaders = {\n",
    "    \"Authorization\": \"Bearer \" + myToken\n",
    "};"
   ]
  },
  {
   "cell_type": "markdown",
   "metadata": {},
   "source": [
    "## Making HTTP requests using JavaScript (Node.js) - Checking credentials"
   ]
  },
  {
   "cell_type": "markdown",
   "metadata": {},
   "source": [
    "* ### Unsucessfull request"
   ]
  },
  {
   "cell_type": "code",
   "execution_count": 8,
   "metadata": {},
   "outputs": [
    {
     "data": {
      "text/plain": [
       "'use strict'"
      ]
     },
     "execution_count": 8,
     "metadata": {},
     "output_type": "execute_result"
    },
    {
     "name": "stdout",
     "output_type": "stream",
     "text": [
      "Couldn't access Portia service - Status Code: 401\n"
     ]
    }
   ],
   "source": [
    "'use strict'\n",
    "\n",
    "// Makes the request\n",
    "let firstRequest = http.get({\n",
    "    host: url,\n",
    "    path: \"/api/v1/accesstoken/check\" // Portia service path for token authorization checking\n",
    "}, function(response) {\n",
    "    \n",
    "    // Treats response data as utf8\n",
    "    response.setEncoding('utf8');\n",
    "    \n",
    "    // Sets callbacks\n",
    "    let body = \"\";\n",
    "    response.on(\"data\", function(dt) {\n",
    "        body += dt;\n",
    "    });\n",
    "    response.on(\"end\", function() {\n",
    "        \n",
    "        // Shows response\n",
    "        if(response.statusCode == 200) {\n",
    "            console.log(\"Success accessing Portia Service - Status Code: \" + response.statusCode + \"\\n\" + body);\n",
    "        } else {\n",
    "            console.log(\"Couldn't access Portia service - Status Code: \" + response.statusCode);\n",
    "        }\n",
    "        \n",
    "    });\n",
    "    \n",
    "}).on(\"error\", function(err) {\n",
    "    // Error handler\n",
    "    console.error('Error with the request: ', err.message);\n",
    "});"
   ]
  },
  {
   "cell_type": "markdown",
   "metadata": {},
   "source": [
    "* ### Sucessfull request"
   ]
  },
  {
   "cell_type": "code",
   "execution_count": 9,
   "metadata": {},
   "outputs": [
    {
     "data": {
      "text/plain": [
       "'use strict'"
      ]
     },
     "execution_count": 9,
     "metadata": {},
     "output_type": "execute_result"
    },
    {
     "name": "stdout",
     "output_type": "stream",
     "text": [
      "Success accessing Portia Service - Status Code: 200\n",
      "{\"user\":\"teste\",\"isLoggedIn\":true}\n"
     ]
    }
   ],
   "source": [
    "'use strict'\n",
    "\n",
    "// Makes the request\n",
    "let secondRequest = http.get({\n",
    "    host: url,\n",
    "    path: \"/api/v1/accesstoken/check\", // Portia service path for token authorization checking\n",
    "    headers: customHeaders             // Setting the header with a token for successful authorization\n",
    "}, function(response) {\n",
    "    \n",
    "    // Treats response data as utf8\n",
    "    response.setEncoding('utf8');\n",
    "    \n",
    "    // Sets callbacks\n",
    "    let body = \"\";\n",
    "    response.on(\"data\", function(dt) {\n",
    "        body += dt;\n",
    "    });\n",
    "    response.on(\"end\", function() {\n",
    "        \n",
    "        // Shows response\n",
    "        if(response.statusCode == 200) {\n",
    "            console.log(\"Success accessing Portia Service - Status Code: \" + response.statusCode + \"\\n\" + body);\n",
    "        } else {\n",
    "            console.log(\"Couldn't access Portia service - Status Code: \" + response.statusCode);\n",
    "        }\n",
    "        \n",
    "    });\n",
    "    \n",
    "}).on(\"error\", function(err) {\n",
    "    // Error handler\n",
    "    console.error('Error with the request: ', err.message);\n",
    "});"
   ]
  },
  {
   "cell_type": "markdown",
   "metadata": {},
   "source": [
    "## Obtaining data from a specific time frame\n",
    "\n",
    "Now that we have learned how to authenticate with the service, let's see how to get the data"
   ]
  },
  {
   "cell_type": "code",
   "execution_count": 10,
   "metadata": {},
   "outputs": [
    {
     "data": {
      "text/plain": [
       "'use strict'"
      ]
     },
     "execution_count": 10,
     "metadata": {},
     "output_type": "execute_result"
    },
    {
     "name": "stdout",
     "output_type": "stream",
     "text": [
      "Success! For each received dimension:\n",
      "Accessing dimension package:\n",
      "\tDimension Code: 1\n",
      "\tUnity Code: 1\n",
      "\tThing Code: 1\n",
      "\tDimension Value: 27.7\n",
      "\tServer Timestamp: 1508862403386\n",
      "Accessing dimension package:\n",
      "\tDimension Code: 1\n",
      "\tUnity Code: 1\n",
      "\tThing Code: 1\n",
      "\tDimension Value: 27.8\n",
      "\tServer Timestamp: 1508862344813\n",
      "Accessing dimension package:\n",
      "\tDimension Code: 1\n",
      "\tUnity Code: 1\n",
      "\tThing Code: 1\n",
      "\tDimension Value: 27.8\n",
      "\tServer Timestamp: 1508862297630\n",
      "Accessing dimension package:\n",
      "\tDimension Code: 1\n",
      "\tUnity Code: 1\n",
      "\tThing Code: 1\n",
      "\tDimension Value: 27.8\n",
      "\tServer Timestamp: 1508862223091\n",
      "Accessing dimension package:\n",
      "\tDimension Code: 1\n",
      "\tUnity Code: 1\n",
      "\tThing Code: 1\n",
      "\tDimension Value: 27.8\n",
      "\tServer Timestamp: 1508862163394\n"
     ]
    }
   ],
   "source": [
    "'use strict'\n",
    "\n",
    "// Example for getting the last 5 minutes of data\n",
    "let fiveMinutes = 1000 * 60 * 5;\n",
    "let toTimestamp = Date.now();\n",
    "let fromTimestamp = toTimestamp - fiveMinutes;\n",
    "\n",
    "// Portia service path for specific time frame\n",
    "let timePath = \"/api/v1/device/HytTDwUp-j8yrsh8e/port/2/sensor/1\";\n",
    "\n",
    "// Adding the calculated timestamps as GET parameters\n",
    "let timePathParams = \"?from_timestamp=\" + fromTimestamp + \"&?to_timestamp=\" + toTimestamp; // If no parameters, the service default response is for the last 24 hours\n",
    "\n",
    "// Makes the request\n",
    "let thirdRequest = http.get({\n",
    "    host: url,\n",
    "    path: timePath + timePathParams,\n",
    "    headers: customHeaders  // Setting the header with a token for successful authorization\n",
    "}, function(response) {\n",
    "    \n",
    "    // Treats response data as utf8\n",
    "    response.setEncoding('utf8');\n",
    "    \n",
    "    // Sets callbacks\n",
    "    let body = \"\";\n",
    "    response.on(\"data\", function(dt) {\n",
    "        body += dt;\n",
    "    });\n",
    "    response.on(\"end\", function() {\n",
    "        \n",
    "        // Shows response\n",
    "        if(response.statusCode == 200) {\n",
    "            // Parses dimensions\n",
    "            let dimensions = JSON.parse(body);\n",
    "            console.log(\"Success! For each received dimension:\");\n",
    "            for(let dimension of dimensions) {\n",
    "                console.log(\"Accessing dimension package:\");\n",
    "                console.log(\"\\tDimension Code: \" + dimension.dimension_code);\n",
    "                console.log(\"\\tUnity Code: \" + dimension.dimension_unity_code);\n",
    "                console.log(\"\\tThing Code: \" + dimension.dimension_thing_code);\n",
    "                console.log(\"\\tDimension Value: \" + dimension.dimension_value);\n",
    "                console.log(\"\\tServer Timestamp: \" + dimension.server_timestamp);\n",
    "            }\n",
    "\n",
    "        } else {\n",
    "            console.log(\"Couldn't access Portia service - Status Code: \" + response.statusCode);\n",
    "        }\n",
    "        \n",
    "    });\n",
    "    \n",
    "}).on(\"error\", function(err) {\n",
    "    // Error handler\n",
    "    console.error('Error with the request: ', err.message);\n",
    "});"
   ]
  },
  {
   "cell_type": "markdown",
   "metadata": {},
   "source": [
    "## Obtaining the latest data\n",
    "For the next example, we are requesting only the last data sent by the equipments"
   ]
  },
  {
   "cell_type": "markdown",
   "metadata": {},
   "source": [
    "* ### Last dimension"
   ]
  },
  {
   "cell_type": "code",
   "execution_count": 11,
   "metadata": {},
   "outputs": [
    {
     "data": {
      "text/plain": [
       "'use strict'"
      ]
     },
     "execution_count": 11,
     "metadata": {},
     "output_type": "execute_result"
    },
    {
     "name": "stdout",
     "output_type": "stream",
     "text": [
      "Success! Accessing dimension package:\n",
      "\tDimension Code: 1\n",
      "\tUnity Code: 1\n",
      "\tThing Code: 1\n",
      "\tDimension Value: 27.7\n",
      "\tServer Timestamp: 1508862403386\n"
     ]
    }
   ],
   "source": [
    "'use strict'\n",
    "\n",
    "// Portia service path for getting the latest data\n",
    "let lastPath = \"/api/v1/device/HytTDwUp-j8yrsh8e/port/2/sensor/1/last\";\n",
    "\n",
    "// Makes the request\n",
    "let fourthRequest = http.get({\n",
    "    host: url,\n",
    "    path: lastPath,\n",
    "    headers: customHeaders  // Setting the header with a token for successful authorization\n",
    "}, function(response) {\n",
    "    \n",
    "    // Treats response data as utf8\n",
    "    response.setEncoding('utf8');\n",
    "    \n",
    "    // Sets callbacks\n",
    "    let body = \"\";\n",
    "    response.on(\"data\", function(dt) {\n",
    "        body += dt;\n",
    "    });\n",
    "    response.on(\"end\", function() {\n",
    "        \n",
    "        // Shows response\n",
    "        if(response.statusCode == 200) {\n",
    "            // Parses dimensions\n",
    "            let dimension = JSON.parse(body)[0];\n",
    "            console.log(\"Success! Accessing dimension package:\");\n",
    "            console.log(\"\\tDimension Code: \" + dimension.dimension_code);\n",
    "            console.log(\"\\tUnity Code: \" + dimension.dimension_unity_code);\n",
    "            console.log(\"\\tThing Code: \" + dimension.dimension_thing_code);\n",
    "            console.log(\"\\tDimension Value: \" + dimension.dimension_value);\n",
    "            console.log(\"\\tServer Timestamp: \" + dimension.server_timestamp);\n",
    "\n",
    "        } else {\n",
    "            console.log(\"Couldn't access Portia service - Status Code: \" + response.statusCode);\n",
    "        }\n",
    "        \n",
    "    });\n",
    "    \n",
    "}).on(\"error\", function(err) {\n",
    "    // Error handler\n",
    "    console.error('Error with the request: ', err.message);\n",
    "});"
   ]
  },
  {
   "cell_type": "markdown",
   "metadata": {},
   "source": [
    "* ### Last three dimensions"
   ]
  },
  {
   "cell_type": "code",
   "execution_count": 2,
   "metadata": {},
   "outputs": [
    {
     "data": {
      "text/plain": [
       "'use strict'"
      ]
     },
     "execution_count": 2,
     "metadata": {},
     "output_type": "execute_result"
    },
    {
     "name": "stdout",
     "output_type": "stream",
     "text": [
      "Success! For each received dimension:\n",
      "Accessing dimension package:\n",
      "\tDimension Code: 1\n",
      "\tUnity Code: 1\n",
      "\tThing Code: 1\n",
      "\tDimension Value: 27.7\n",
      "\tServer Timestamp: 1508862470835\n",
      "Accessing dimension package:\n",
      "\tDimension Code: 1\n",
      "\tUnity Code: 1\n",
      "\tThing Code: 1\n",
      "\tDimension Value: 27.7\n",
      "\tServer Timestamp: 1508862403386\n",
      "Accessing dimension package:\n",
      "\tDimension Code: 1\n",
      "\tUnity Code: 1\n",
      "\tThing Code: 1\n",
      "\tDimension Value: 27.8\n",
      "\tServer Timestamp: 1508862344813\n"
     ]
    }
   ],
   "source": [
    "'use strict'\n",
    "\n",
    "// Portia service path for getting the latest data\n",
    "let lastPath2 = \"/api/v1/device/HytTDwUp-j8yrsh8e/port/2/sensor/1/last\";\n",
    "\n",
    "// Adding GET parameter for specifying that we want the last 3 dimension packages\n",
    "let lastPath2Params = \"?limit=3\";\n",
    "\n",
    "// Makes the request\n",
    "let fifthRequest = http.get({\n",
    "    host: url,\n",
    "    path: lastPath2 + lastPath2Params,\n",
    "    headers: customHeaders  // Setting the header with a token for successful authorization\n",
    "}, function(response) {\n",
    "    \n",
    "    // Treats response data as utf8\n",
    "    response.setEncoding('utf8');\n",
    "    \n",
    "    // Sets callbacks\n",
    "    let body = \"\";\n",
    "    response.on(\"data\", function(dt) {\n",
    "        body += dt;\n",
    "    });\n",
    "    response.on(\"end\", function() {\n",
    "        \n",
    "        // Shows response\n",
    "        if(response.statusCode == 200) {\n",
    "            // Parses dimensions\n",
    "            let dimensions = JSON.parse(body);\n",
    "            console.log(\"Success! For each received dimension:\");\n",
    "            for(let dimension of dimensions) {\n",
    "                console.log(\"Accessing dimension package:\");\n",
    "                console.log(\"\\tDimension Code: \" + dimension.dimension_code);\n",
    "                console.log(\"\\tUnity Code: \" + dimension.dimension_unity_code);\n",
    "                console.log(\"\\tThing Code: \" + dimension.dimension_thing_code);\n",
    "                console.log(\"\\tDimension Value: \" + dimension.dimension_value);\n",
    "                console.log(\"\\tServer Timestamp: \" + dimension.server_timestamp);\n",
    "            }\n",
    "\n",
    "        } else {\n",
    "            console.log(\"Couldn't access Portia service - Status Code: \" + response.statusCode);\n",
    "        }\n",
    "        \n",
    "    });\n",
    "    \n",
    "}).on(\"error\", function(err) {\n",
    "    // Error handler\n",
    "    console.error('Error with the request: ', err.message);\n",
    "});"
   ]
  }
 ],
 "metadata": {
  "kernelspec": {
   "display_name": "Javascript (Node.js)",
   "language": "javascript",
   "name": "ijavascript"
  },
  "language_info": {
   "file_extension": ".js",
   "mimetype": "application/javascript",
   "name": "javascript",
   "version": "4.2.6"
  }
 },
 "nbformat": 4,
 "nbformat_minor": 2
}
